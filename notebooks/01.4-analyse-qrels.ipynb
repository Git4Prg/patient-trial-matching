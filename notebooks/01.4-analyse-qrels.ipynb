{
 "cells": [
  {
   "cell_type": "code",
   "execution_count": null,
   "metadata": {
    "collapsed": true
   },
   "outputs": [],
   "source": [
    "import pandas as pd"
   ]
  },
  {
   "cell_type": "code",
   "execution_count": null,
   "outputs": [],
   "source": [
    "year = 2022"
   ],
   "metadata": {
    "collapsed": false
   }
  },
  {
   "cell_type": "code",
   "execution_count": null,
   "outputs": [],
   "source": [
    "qrels_file = f\"../data/external/qrels{year}.txt\""
   ],
   "metadata": {
    "collapsed": false
   }
  },
  {
   "cell_type": "code",
   "execution_count": null,
   "outputs": [],
   "source": [
    "df = pd.read_csv(qrels_file, sep=' ', names=['topic', 'skip','trial', 'qrel'])"
   ],
   "metadata": {
    "collapsed": false
   }
  },
  {
   "cell_type": "code",
   "execution_count": null,
   "outputs": [],
   "source": [
    "for qrel in [0, 1, 2]:\n",
    "    print(qrel, len(df[df['qrel'] == qrel]))"
   ],
   "metadata": {
    "collapsed": false
   }
  },
  {
   "cell_type": "code",
   "execution_count": null,
   "outputs": [],
   "source": [
    "print(f\"unique trials: {len(df['trial'].unique())}\")"
   ],
   "metadata": {
    "collapsed": false
   }
  },
  {
   "cell_type": "code",
   "execution_count": null,
   "outputs": [],
   "source": [
    "# trials which appear in the most number of patients\n",
    "df['trial'].value_counts()"
   ],
   "metadata": {
    "collapsed": false
   }
  },
  {
   "cell_type": "code",
   "execution_count": null,
   "outputs": [],
   "source": [
    "threshold = len(df['topic'].unique()) - 5\n",
    "# trials which appear in the most number of patients AND are relevant or excluded\n",
    "df[(df['trial'].isin(df['trial'].value_counts()[df['trial'].value_counts() > threshold].index)) & df['qrel'].isin([1,2])]['trial'].value_counts()"
   ],
   "metadata": {
    "collapsed": false
   }
  },
  {
   "cell_type": "code",
   "execution_count": null,
   "outputs": [],
   "source": [
    "eligibile_excluded_stats_df = df[df['qrel'].isin([0,1,2])].groupby(['topic', 'qrel'])['trial'].count()\n",
    "eligibile_excluded_stats_df"
   ],
   "metadata": {
    "collapsed": false
   }
  },
  {
   "cell_type": "code",
   "execution_count": null,
   "outputs": [],
   "source": [
    "patients_jsonl = f\"../data/external/topics{year}.jsonl\""
   ],
   "metadata": {
    "collapsed": false
   }
  },
  {
   "cell_type": "code",
   "execution_count": null,
   "outputs": [],
   "source": [
    "import json\n",
    "with open(patients_jsonl, 'r') as f:\n",
    "    patients = [json.loads(x) for x in f.readlines()]"
   ],
   "metadata": {
    "collapsed": false
   }
  },
  {
   "cell_type": "code",
   "execution_count": null,
   "outputs": [],
   "source": [
    "clustering = pd.read_csv(f\"../data/external/topics_clustering-2021.csv\")\n",
    "clustering.head()"
   ],
   "metadata": {
    "collapsed": false
   }
  },
  {
   "cell_type": "code",
   "execution_count": null,
   "outputs": [],
   "source": [
    "for patient_id, patient in enumerate(patients):\n",
    "    # print(patient_id, patient['patient_id'])\n",
    "    patients[patient_id]['judged relevant trials'] = int(eligibile_excluded_stats_df[patient['patient_id'], 2])\n",
    "    patients[patient_id]['judged excluded trials'] = int(eligibile_excluded_stats_df[patient['patient_id'], 1])\n",
    "    patients[patient_id]['irrelevant trials'] = int(eligibile_excluded_stats_df[patient['patient_id'], 0])\n",
    "\n",
    "    for index_id, trial in enumerate(df[(df['topic'] == patient['patient_id']) & (df['qrel'] == 2)]['trial'].tolist()[:2]):\n",
    "        patients[patient_id][f'included {index_id}'] = f\"https://clinicaltrials.gov/ct2/show/{trial}\"\n",
    "\n",
    "    for index_id, trial in enumerate(df[(df['topic'] == patient['patient_id']) & (df['qrel'] == 1)]['trial'].tolist()[:1]):\n",
    "        patients[patient_id][f'excluded {index_id}'] = f\"https://clinicaltrials.gov/ct2/show/{trial}\"\n",
    "\n",
    "    del patients[patient_id]['current_medical_history']\n",
    "    del patients[patient_id]['past_medical_history']\n",
    "    del patients[patient_id]['family_medical_history']\n",
    "    del patients[patient_id]['cmh_entities']\n",
    "    del patients[patient_id]['pmh_entities']\n",
    "    del patients[patient_id]['fh_entities']\n",
    "\n",
    "    if year == 2021:\n",
    "        patients[patient_id]['patient area or specialty'] = clustering[clustering['Disease area or specialty'] == patient['patient_id']]['Topic'].tolist()[0]"
   ],
   "metadata": {
    "collapsed": false
   }
  },
  {
   "cell_type": "code",
   "execution_count": null,
   "outputs": [],
   "source": [
    "patients"
   ],
   "metadata": {
    "collapsed": false
   }
  },
  {
   "cell_type": "code",
   "execution_count": null,
   "outputs": [],
   "source": [
    "# save to json, not jsonl\n",
    "with open(f\"../data/external/topics{year}-for-annotation.json\", 'w') as f:\n",
    "    json.dump(patients, f)\n"
   ],
   "metadata": {
    "collapsed": false
   }
  },
  {
   "cell_type": "code",
   "execution_count": null,
   "outputs": [],
   "source": [
    "with open(f\"../data/external/topics{year}_stats.jsonl\", 'w') as f:\n",
    "    for patient in patients:\n",
    "        f.write(json.dumps(patient) + '\\n')"
   ],
   "metadata": {
    "collapsed": false
   }
  },
  {
   "cell_type": "markdown",
   "source": [
    "# stats for patients"
   ],
   "metadata": {
    "collapsed": false
   }
  },
  {
   "cell_type": "code",
   "execution_count": null,
   "outputs": [],
   "source": [
    "from CTnlp.patient import load_patients_from_xml\n",
    "import numpy as np"
   ],
   "metadata": {
    "collapsed": false
   }
  },
  {
   "cell_type": "code",
   "execution_count": null,
   "outputs": [],
   "source": [
    "p21 = load_patients_from_xml(\"../data/external/topics2021.xml\")\n",
    "p22 = load_patients_from_xml(\"../data/external/topics2022.xml\")"
   ],
   "metadata": {
    "collapsed": false
   }
  },
  {
   "cell_type": "code",
   "execution_count": null,
   "outputs": [],
   "source": [
    "np.mean([len(x.description.split('.')) for x in p21])"
   ],
   "metadata": {
    "collapsed": false
   }
  },
  {
   "cell_type": "code",
   "execution_count": null,
   "outputs": [],
   "source": [
    "np.mean([len(x.description.split('.')) for x in p22])"
   ],
   "metadata": {
    "collapsed": false
   }
  },
  {
   "cell_type": "code",
   "execution_count": null,
   "outputs": [],
   "source": [
    "np.mean([len(x.description.split(' ')) for x in p21])"
   ],
   "metadata": {
    "collapsed": false
   }
  },
  {
   "cell_type": "code",
   "execution_count": null,
   "outputs": [],
   "source": [
    "np.mean([len(x.description.split(' ')) for x in p22])"
   ],
   "metadata": {
    "collapsed": false
   }
  },
  {
   "cell_type": "code",
   "execution_count": null,
   "outputs": [],
   "source": [],
   "metadata": {
    "collapsed": false
   }
  }
 ],
 "metadata": {
  "kernelspec": {
   "display_name": "Python 3",
   "language": "python",
   "name": "python3"
  },
  "language_info": {
   "codemirror_mode": {
    "name": "ipython",
    "version": 2
   },
   "file_extension": ".py",
   "mimetype": "text/x-python",
   "name": "python",
   "nbconvert_exporter": "python",
   "pygments_lexer": "ipython2",
   "version": "2.7.6"
  }
 },
 "nbformat": 4,
 "nbformat_minor": 0
}
