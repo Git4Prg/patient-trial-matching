{
 "cells": [
  {
   "cell_type": "code",
   "execution_count": null,
   "metadata": {
    "collapsed": true,
    "pycharm": {
     "name": "#%%\n"
    }
   },
   "outputs": [],
   "source": [
    "import pandas as pd"
   ]
  },
  {
   "cell_type": "code",
   "execution_count": null,
   "outputs": [],
   "source": [
    "auto_results = pd.read_csv(\"../data/results/auto-results\", sep=' ', names=['topic', 'ndcg-Best', 'ndcg-Median', 'ndcg-Worst','PREC-Best', 'PREC-Median', 'PREC-Worst', 'rr-Best','rr-Median','rr-Worst'])"
   ],
   "metadata": {
    "collapsed": false,
    "pycharm": {
     "name": "#%%\n"
    }
   }
  },
  {
   "cell_type": "code",
   "execution_count": null,
   "outputs": [],
   "source": [
    "postproc = pd.read_csv(\"../data/results/baseline.ndcg\", sep='\\t', names=['ndcg', 'topic', 'score'])"
   ],
   "metadata": {
    "collapsed": false,
    "pycharm": {
     "name": "#%%\n"
    }
   }
  },
  {
   "cell_type": "code",
   "execution_count": null,
   "outputs": [],
   "source": [
    "ndcg_10_my = postproc[postproc['ndcg'].str.strip() == 'ndcg_cut_10']"
   ],
   "metadata": {
    "collapsed": false,
    "pycharm": {
     "name": "#%%\n"
    }
   }
  },
  {
   "cell_type": "code",
   "execution_count": null,
   "outputs": [],
   "source": [
    "topics = auto_results['topic'].tolist()"
   ],
   "metadata": {
    "collapsed": false,
    "pycharm": {
     "name": "#%%\n"
    }
   }
  },
  {
   "cell_type": "code",
   "execution_count": null,
   "outputs": [],
   "source": [
    "my_better = 0\n",
    "for topic in auto_results['topic'].tolist():\n",
    "    print(topic)\n",
    "    topic = str(topic).strip()\n",
    "    my_score = ndcg_10_my.loc[ndcg_10_my['topic'] == topic, 'score' ].tolist()[0]\n",
    "\n",
    "    median_score = auto_results.loc[auto_results['topic'].astype(str).str.strip() == topic, 'ndcg-Median' ].tolist()[0]\n",
    "\n",
    "    print(f\"{median_score=}, {my_score=}\")\n",
    "\n",
    "    if my_score > median_score:\n",
    "        my_better += 1"
   ],
   "metadata": {
    "collapsed": false,
    "pycharm": {
     "name": "#%%\n"
    }
   }
  },
  {
   "cell_type": "code",
   "execution_count": null,
   "outputs": [],
   "source": [
    "my_better / len(auto_results)"
   ],
   "metadata": {
    "collapsed": false,
    "pycharm": {
     "name": "#%%\n"
    }
   }
  },
  {
   "cell_type": "code",
   "execution_count": null,
   "outputs": [],
   "source": [
    "my_better"
   ],
   "metadata": {
    "collapsed": false,
    "pycharm": {
     "name": "#%%\n"
    }
   }
  },
  {
   "cell_type": "code",
   "execution_count": null,
   "outputs": [],
   "source": [
    "auto_results['ndcg-Median'].mean()"
   ],
   "metadata": {
    "collapsed": false,
    "pycharm": {
     "name": "#%%\n"
    }
   }
  },
  {
   "cell_type": "code",
   "execution_count": null,
   "outputs": [],
   "source": [
    "auto_results\n"
   ],
   "metadata": {
    "collapsed": false,
    "pycharm": {
     "name": "#%%\n"
    }
   }
  },
  {
   "cell_type": "code",
   "execution_count": null,
   "outputs": [],
   "source": [
    "\n",
    "rerank = pd.read_csv(\"../data/results/rerank2000.ndcg\", sep='\\t', names=['ndcg', 'topic', 'score'])\n"
   ],
   "metadata": {
    "collapsed": false,
    "pycharm": {
     "name": "#%%\n"
    }
   }
  },
  {
   "cell_type": "code",
   "execution_count": null,
   "outputs": [],
   "source": [
    "ndcg_10_df = auto_results[['topic', 'ndcg-Best']]\n",
    "\n",
    "ndcg_10_df['postproc'] = 0\n",
    "ndcg_10_df['rerank'] = 0\n",
    "\n",
    "for topic in topics:\n",
    "    postproc_score = postproc[postproc['ndcg'].str.strip() == 'ndcg_cut_10'][postproc['topic'] == str(topic)]['score'].tolist()[0]\n",
    "    rerank_score = rerank[rerank['ndcg'].str.strip() == 'ndcg_cut_10'][rerank['topic'] == str(topic)]['score'].tolist()[0]\n",
    "    print(postproc_score, rerank_score)\n",
    "    ndcg_10_df.loc[ndcg_10_df[ndcg_10_df['topic'] == topic].index, 'postproc'] = postproc_score\n",
    "    ndcg_10_df.loc[ndcg_10_df[ndcg_10_df['topic'] == topic].index, 'rerank'] = rerank_score"
   ],
   "metadata": {
    "collapsed": false,
    "pycharm": {
     "name": "#%%\n"
    }
   }
  },
  {
   "cell_type": "code",
   "execution_count": null,
   "outputs": [],
   "source": [
    "ndcg_10_df"
   ],
   "metadata": {
    "collapsed": false,
    "pycharm": {
     "name": "#%%\n"
    }
   }
  },
  {
   "cell_type": "code",
   "execution_count": null,
   "outputs": [],
   "source": [
    "ndcg_10_df[['ndcg-Best', 'postproc', 'rerank']].plot.hist()"
   ],
   "metadata": {
    "collapsed": false,
    "pycharm": {
     "name": "#%%\n"
    }
   }
  },
  {
   "cell_type": "code",
   "execution_count": null,
   "outputs": [],
   "source": [
    "len(ndcg_10_df[ndcg_10_df['postproc'] > ndcg_10_df['rerank']])"
   ],
   "metadata": {
    "collapsed": false,
    "pycharm": {
     "name": "#%%\n"
    }
   }
  },
  {
   "cell_type": "code",
   "execution_count": null,
   "outputs": [],
   "source": [
    "\n",
    "len(ndcg_10_df[ndcg_10_df['postproc'] < ndcg_10_df['rerank']])"
   ],
   "metadata": {
    "collapsed": false,
    "pycharm": {
     "name": "#%%\n"
    }
   }
  },
  {
   "cell_type": "code",
   "execution_count": null,
   "outputs": [],
   "source": [
    "len(ndcg_10_df[ndcg_10_df['postproc'] == ndcg_10_df['rerank']])"
   ],
   "metadata": {
    "collapsed": false,
    "pycharm": {
     "name": "#%%\n"
    }
   }
  },
  {
   "cell_type": "code",
   "execution_count": null,
   "outputs": [],
   "source": [],
   "metadata": {
    "collapsed": false,
    "pycharm": {
     "name": "#%%\n"
    }
   }
  }
 ],
 "metadata": {
  "kernelspec": {
   "display_name": "Python 3",
   "language": "python",
   "name": "python3"
  },
  "language_info": {
   "codemirror_mode": {
    "name": "ipython",
    "version": 2
   },
   "file_extension": ".py",
   "mimetype": "text/x-python",
   "name": "python",
   "nbconvert_exporter": "python",
   "pygments_lexer": "ipython2",
   "version": "2.7.6"
  }
 },
 "nbformat": 4,
 "nbformat_minor": 0
}