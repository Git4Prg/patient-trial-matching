{
 "cells": [
  {
   "cell_type": "code",
   "execution_count": null,
   "outputs": [],
   "source": [
    "import pandas as pd\n",
    "import os\n",
    "import matplotlib.pyplot as plt\n",
    "import seaborn as sns\n",
    "%matplotlib inline"
   ],
   "metadata": {
    "collapsed": false
   }
  },
  {
   "cell_type": "markdown",
   "source": [
    "# plot per query performance for sections/"
   ],
   "metadata": {
    "collapsed": false
   }
  },
  {
   "cell_type": "code",
   "execution_count": null,
   "outputs": [],
   "source": [
    "data_dir = \"../data/processed/jbi/sections/\""
   ],
   "metadata": {
    "collapsed": false
   }
  },
  {
   "cell_type": "code",
   "execution_count": null,
   "outputs": [],
   "source": [
    "measures_dict = {\n",
    "    \"P_10\": \"P@10\",\n",
    "    \"ndcg_cut_10\": \"nDCG@10\",\n",
    "    \"ndcg_cut_5\": \"nDCG@5\",\n",
    "    \"recip_rank\": \"RR\"\n",
    "}"
   ],
   "metadata": {
    "collapsed": false
   }
  },
  {
   "cell_type": "code",
   "execution_count": null,
   "outputs": [],
   "source": [
    "year = '2022'"
   ],
   "metadata": {
    "collapsed": false
   }
  },
  {
   "cell_type": "code",
   "execution_count": null,
   "outputs": [],
   "source": [
    "sections = ['bm25p-inclusion-20230202-results',\n",
    "            'bm25p-summary-20230202-results',\n",
    "            'bm25p-summary_description_titles_conditions-20230202-results',\n",
    "            # 'bm25p-summary_description_titles_conditions_inclusion-20230202-results'\n",
    "            ]"
   ],
   "metadata": {
    "collapsed": false
   }
  },
  {
   "cell_type": "code",
   "execution_count": null,
   "outputs": [],
   "source": [
    "out_df = pd.DataFrame()\n",
    "for section in sections:\n",
    "    df = pd.read_csv(f\"{data_dir}/{year}/{section}\", sep='\\t', names=['measure','query', 'scores'])\n",
    "    df['sections'] = section.split('-')[1].replace('_', \" + \")\n",
    "    out_df = out_df.append(df, ignore_index=True)"
   ],
   "metadata": {
    "collapsed": false
   }
  },
  {
   "cell_type": "code",
   "execution_count": null,
   "outputs": [],
   "source": [
    "out_df.head()"
   ],
   "metadata": {
    "collapsed": false
   }
  },
  {
   "cell_type": "code",
   "execution_count": null,
   "outputs": [],
   "source": [
    "out_df['measure'] = out_df['measure'].str.strip()\n",
    "out_df['query'] = out_df['query'].str.strip()"
   ],
   "metadata": {
    "collapsed": false
   }
  },
  {
   "cell_type": "code",
   "execution_count": null,
   "outputs": [],
   "source": [
    "out_df = out_df[out_df['query'] != 'all']\n",
    "out_df['query'] = out_df['query'].astype(int)"
   ],
   "metadata": {
    "collapsed": false
   }
  },
  {
   "cell_type": "code",
   "execution_count": null,
   "outputs": [],
   "source": [
    "out_df = out_df.drop_duplicates(subset=['measure', 'query', 'sections'], keep='last')"
   ],
   "metadata": {
    "collapsed": false
   }
  },
  {
   "cell_type": "code",
   "execution_count": null,
   "outputs": [],
   "source": [
    "measure = 'recip_rank'"
   ],
   "metadata": {
    "collapsed": false
   }
  },
  {
   "cell_type": "code",
   "execution_count": null,
   "outputs": [],
   "source": [
    "out_df[out_df['measure'] == measure]"
   ],
   "metadata": {
    "collapsed": false
   }
  },
  {
   "cell_type": "code",
   "execution_count": null,
   "outputs": [],
   "source": [
    "for measure, measure_name in measures_dict.items():\n",
    "\n",
    "    sns.set(rc={'figure.figsize':(20,6)})\n",
    "\n",
    "    plot = sns.barplot(out_df[out_df['measure'] == measure], x='query', y='scores', hue='sections')\n",
    "    plot.set(xlabel='',\n",
    "           ylabel=measure_name,\n",
    "           title='')\n",
    "    plot.tick_params(labelsize=17)\n",
    "    plot.legend(fontsize=17, loc='upper right', title='Sections', title_fontsize=17)\n",
    "    plot.yaxis.label.set_size(23)\n",
    "\n",
    "    plot.figure.tight_layout(pad=2.5)\n",
    "    plot.figure.savefig(f\"../reports/performance_plot/sections/sections_{year}_{measure}.pdf\")\n",
    "    plot.clear()"
   ],
   "metadata": {
    "collapsed": false
   }
  },
  {
   "cell_type": "code",
   "execution_count": null,
   "outputs": [],
   "source": [
    "out_df[(out_df['measure'] == measure) & (out_df['query'] == 1)]"
   ],
   "metadata": {
    "collapsed": false
   }
  },
  {
   "cell_type": "code",
   "execution_count": null,
   "outputs": [],
   "source": [
    "out_df[(out_df['measure'] == measure) & (out_df['query'] == 1)]"
   ],
   "metadata": {
    "collapsed": false
   }
  },
  {
   "cell_type": "markdown",
   "source": [
    "# analysis of extracted entities"
   ],
   "metadata": {
    "collapsed": false
   }
  },
  {
   "cell_type": "code",
   "execution_count": null,
   "outputs": [],
   "source": [
    "data_dir = \"../data/processed/jbi/\""
   ],
   "metadata": {
    "collapsed": false
   }
  },
  {
   "cell_type": "code",
   "execution_count": null,
   "outputs": [],
   "source": [
    "year = '2022'"
   ],
   "metadata": {
    "collapsed": false
   }
  },
  {
   "cell_type": "code",
   "execution_count": null,
   "outputs": [],
   "source": [
    "runs = {\"14\": f'sections/{year}/bm25p-summary_description_titles_conditions_inclusion-20230202-results',\n",
    "        \"14d\":  f'ie/{year}/bm25p-an_cpf-20230207-results',\n",
    "\"14d-AG\":  f'ie_filtered/{year}/bm25p-an_cpf-20230207_age_gender-results'\n",
    "        }"
   ],
   "metadata": {
    "collapsed": false
   }
  },
  {
   "cell_type": "code",
   "execution_count": null,
   "outputs": [],
   "source": [
    "out_df = pd.DataFrame()\n",
    "for run_name, file in runs.items():\n",
    "    df = pd.read_csv(f\"{data_dir}/{file}\", sep='\\t', names=['measure','query', 'scores'])\n",
    "    df['sections'] = run_name\n",
    "    out_df = out_df.append(df, ignore_index=True)"
   ],
   "metadata": {
    "collapsed": false
   }
  },
  {
   "cell_type": "code",
   "execution_count": null,
   "outputs": [],
   "source": [
    "out_df['measure'] = out_df['measure'].str.strip()\n",
    "out_df['query'] = out_df['query'].str.strip()"
   ],
   "metadata": {
    "collapsed": false
   }
  },
  {
   "cell_type": "code",
   "execution_count": null,
   "outputs": [],
   "source": [
    "out_df = out_df[out_df['query'] != 'all']\n",
    "out_df['query'] = out_df['query'].astype(int)"
   ],
   "metadata": {
    "collapsed": false
   }
  },
  {
   "cell_type": "code",
   "execution_count": null,
   "outputs": [],
   "source": [
    "out_df = out_df.drop_duplicates(subset=['measure', 'query', 'sections'], keep='last')"
   ],
   "metadata": {
    "collapsed": false
   }
  },
  {
   "cell_type": "code",
   "execution_count": null,
   "outputs": [],
   "source": [
    "for measure, measure_name in measures_dict.items():\n",
    "\n",
    "    sns.set(rc={'figure.figsize':(20,6)})\n",
    "\n",
    "    plot = sns.barplot(out_df[out_df['measure'] == measure], x='query', y='scores', hue='sections')\n",
    "    plot.set(xlabel='',\n",
    "           ylabel=measure_name,\n",
    "           title='')\n",
    "    plot.figure.savefig(f\"../reports/performance_plot/all/{year}_{measure}.pdf\")\n",
    "    plot.clear()"
   ],
   "metadata": {
    "collapsed": false
   }
  },
  {
   "cell_type": "markdown",
   "source": [
    "# count number of excluded (2) from runs"
   ],
   "metadata": {
    "collapsed": false
   }
  },
  {
   "cell_type": "code",
   "execution_count": null,
   "outputs": [],
   "source": [
    "year = '2022'"
   ],
   "metadata": {
    "collapsed": false
   }
  },
  {
   "cell_type": "code",
   "execution_count": null,
   "outputs": [],
   "source": [
    "qrels_file = f'../data/external/qrels{year}.txt'\n",
    "\n",
    "qrel_df = pd.read_csv(qrels_file, sep=' ', names=['qid', 'skip', 'docid', 'qrel'])\n",
    "qrel_df['qid'] =qrel_df['qid'].astype(int)\n",
    "qrel_df['qrel'] =qrel_df['qrel'].astype(int)"
   ],
   "metadata": {
    "collapsed": false
   }
  },
  {
   "cell_type": "code",
   "execution_count": null,
   "outputs": [],
   "source": [
    "runs = {\"14\": f'sections/{year}/bm25p-summary_description_titles_conditions_inclusion-20230202',\n",
    "        \"14d\":  f'ie/{year}/bm25p-an_cpf-20230207',\n",
    "\"14d-AG\":  f'ie_filtered/{year}/bm25p-an_cpf-20230207_age_gender'\n",
    "        }"
   ],
   "metadata": {
    "collapsed": false
   }
  },
  {
   "cell_type": "code",
   "execution_count": null,
   "outputs": [],
   "source": [
    "if year == '2022':\n",
    "    runs['TCRR'] = \"neural/2022/DoSSIER_5\""
   ],
   "metadata": {
    "collapsed": false
   }
  },
  {
   "cell_type": "code",
   "execution_count": null,
   "outputs": [],
   "source": [
    "out_df = pd.DataFrame()\n",
    "for run_name, file in runs.items():\n",
    "    df = pd.read_csv(f\"{data_dir}/{file}\", sep=' ', names=['qid','skip', 'docid', 'rank','score', 'run_name'])\n",
    "    df['sections'] = run_name\n",
    "    print(len(df))\n",
    "    out_df = out_df.append(df, ignore_index=True)"
   ],
   "metadata": {
    "collapsed": false
   }
  },
  {
   "cell_type": "code",
   "execution_count": null,
   "outputs": [],
   "source": [
    "out_df"
   ],
   "metadata": {
    "collapsed": false
   }
  },
  {
   "cell_type": "code",
   "execution_count": null,
   "outputs": [],
   "source": [
    "mdf = pd.merge(out_df, qrel_df, left_on=['qid', 'docid'], right_on=['qid', 'docid'], how='left')"
   ],
   "metadata": {
    "collapsed": false
   }
  },
  {
   "cell_type": "code",
   "execution_count": null,
   "outputs": [],
   "source": [
    "mdf"
   ],
   "metadata": {
    "collapsed": false
   }
  },
  {
   "cell_type": "code",
   "execution_count": null,
   "outputs": [],
   "source": [
    "for top_n in [5, 10, 15, 20, 30]:\n",
    "    pdf = mdf[(mdf['rank'] < top_n) & (mdf['qrel'] == 2.0)].groupby(['sections', 'qid'])['qrel'].count().reset_index()\n",
    "    pdf['run_name'] =pdf['sections']\n",
    "    sns.set(rc={'figure.figsize': (20, 6)})\n",
    "\n",
    "    plot = sns.barplot(pdf, x='qid', y='qrel', hue='run_name')\n",
    "    plot.set(xlabel='',\n",
    "             ylabel=\"\",\n",
    "             title=f\"Number of relevant trials in the top {top_n}\")\n",
    "    plot.tick_params(labelsize=17)\n",
    "    plot.legend(fontsize=17, loc='upper right', title='Run name', title_fontsize=17)\n",
    "    plot.title.set_size(25)\n",
    "\n",
    "    plot.figure.tight_layout(pad=2.5)\n",
    "    plot.figure.savefig(f\"../reports/performance_plot/all/relevant_{year}_top_{top_n}.pdf\")\n",
    "    plot.clear()\n",
    "    # count number of excluded (2) from runs"
   ],
   "metadata": {
    "collapsed": false
   }
  },
  {
   "cell_type": "markdown",
   "source": [
    "# aggregated plots per K"
   ],
   "metadata": {
    "collapsed": false
   }
  },
  {
   "cell_type": "code",
   "execution_count": null,
   "outputs": [],
   "source": [
    "qrels = {\n",
    "    0: 'irrelevant',\n",
    "    1: \"excluded\",\n",
    "    2: \"relevant\"\n",
    "}"
   ],
   "metadata": {
    "collapsed": false
   }
  },
  {
   "cell_type": "code",
   "execution_count": null,
   "outputs": [],
   "source": [
    "grouped_by_k = pd.DataFrame()\n",
    "\n",
    "for top_n in range(0, 100):\n",
    "    for qrel, qrel_text in qrels.items():\n",
    "        pdf = mdf[(mdf['rank'] <= top_n) & (mdf['qrel'] == qrel)].groupby(['sections'])['qrel'].count().reset_index()\n",
    "        pdf['run name'] = pdf['sections']\n",
    "        pdf['qrel_count'] = pdf['qrel']\n",
    "        pdf['top_n'] = top_n\n",
    "        pdf['qrel'] = qrel_text\n",
    "        grouped_by_k = grouped_by_k.append(pdf, ignore_index=True)"
   ],
   "metadata": {
    "collapsed": false
   }
  },
  {
   "cell_type": "code",
   "execution_count": null,
   "outputs": [],
   "source": [
    "grouped_by_k"
   ],
   "metadata": {
    "collapsed": false
   }
  },
  {
   "cell_type": "code",
   "execution_count": null,
   "outputs": [],
   "source": [
    "for qrel, qrel_text in qrels.items():\n",
    "\n",
    "    sns.set(rc={'figure.figsize': (20, 7)})\n",
    "\n",
    "    plot = sns.lineplot(grouped_by_k[grouped_by_k['qrel']==qrel_text], x='top_n', y='qrel_count', hue='run name')\n",
    "    plot.set(xlabel='',\n",
    "             ylabel=\"\",\n",
    "             title=f\"Number of {qrel_text} trials per K trials retrieved\")\n",
    "    plot.figure.savefig(f\"../reports/performance_plot/all/count_{year}_{qrel_text}.pdf\")\n",
    "    plot.clear()\n",
    "# count number of excluded (2) from runs"
   ],
   "metadata": {
    "collapsed": false
   }
  },
  {
   "cell_type": "markdown",
   "source": [
    "# averaged for each query"
   ],
   "metadata": {
    "collapsed": false
   }
  },
  {
   "cell_type": "code",
   "execution_count": null,
   "outputs": [],
   "source": [
    "sns.lineplot(mdf[(mdf['rank'] <= top_n) & (mdf['qrel'] == qrel)],\n",
    "             x='rank', y='qrel', hue='sections')"
   ],
   "metadata": {
    "collapsed": false
   }
  },
  {
   "cell_type": "code",
   "execution_count": null,
   "outputs": [],
   "source": [
    "grouped_by_k = pd.DataFrame()\n",
    "\n",
    "for top_n in range(0, 51):\n",
    "    for qrel, qrel_text in qrels.items():\n",
    "        pdf = mdf[(mdf['rank'] <= top_n) & (mdf['qrel'] == qrel)].groupby(['sections', 'qid'], dropna=False)['qrel'].count().reset_index()\n",
    "\n",
    "        pdf['run name'] = pdf['sections']\n",
    "        pdf.drop(columns=['sections'], inplace=True)\n",
    "        pdf['qrel_count'] = pdf['qrel']\n",
    "        pdf['top_n'] = top_n\n",
    "        pdf['qrel'] = qrel_text\n",
    "        grouped_by_k = grouped_by_k.append(pdf, ignore_index=True)\n"
   ],
   "metadata": {
    "collapsed": false
   }
  },
  {
   "cell_type": "code",
   "execution_count": null,
   "outputs": [],
   "source": [
    "sns.lineplot(grouped_by_k,\n",
    "             x='top_n', y='qrel', hue='run name')"
   ],
   "metadata": {
    "collapsed": false
   }
  },
  {
   "cell_type": "code",
   "execution_count": null,
   "outputs": [],
   "source": [
    "grouped_by_k = grouped_by_k.set_index(['run name', 'qid', 'top_n', 'qrel']).unstack(fill_value=0).stack().reset_index()"
   ],
   "metadata": {
    "collapsed": false
   }
  },
  {
   "cell_type": "code",
   "execution_count": null,
   "outputs": [],
   "source": [
    "for qrel, qrel_text in qrels.items():\n",
    "\n",
    "    sns.set(rc={'figure.figsize': (20, 7)})\n",
    "\n",
    "    plot = sns.lineplot(grouped_by_k[grouped_by_k['qrel']==qrel_text], x='top_n', y='qrel_count', hue='run name')\n",
    "    plot.set(xlabel='',\n",
    "             ylabel=\"\",\n",
    "             title=f\"Average count of {qrel_text} trials per K trials retrieved\")\n",
    "    plot.tick_params(labelsize=20)\n",
    "    plot.legend(fontsize=20, loc='upper left', title='Run name', title_fontsize=21)\n",
    "    plot.title.set_size(26)\n",
    "\n",
    "    plot.figure.tight_layout()\n",
    "    plot.figure.savefig(f\"../reports/performance_plot/all/averaged_count_{year}_{qrel_text}.pdf\")\n",
    "    plot.clear()\n",
    "# count number of excluded (2) from runs"
   ],
   "metadata": {
    "collapsed": false
   }
  },
  {
   "cell_type": "code",
   "execution_count": null,
   "outputs": [],
   "source": [],
   "metadata": {
    "collapsed": false,
    "pycharm": {
     "is_executing": true
    }
   }
  }
 ],
 "metadata": {
  "kernelspec": {
   "display_name": "Python 3",
   "language": "python",
   "name": "python3"
  },
  "language_info": {
   "codemirror_mode": {
    "name": "ipython",
    "version": 2
   },
   "file_extension": ".py",
   "mimetype": "text/x-python",
   "name": "python",
   "nbconvert_exporter": "python",
   "pygments_lexer": "ipython2",
   "version": "2.7.6"
  }
 },
 "nbformat": 4,
 "nbformat_minor": 0
}
