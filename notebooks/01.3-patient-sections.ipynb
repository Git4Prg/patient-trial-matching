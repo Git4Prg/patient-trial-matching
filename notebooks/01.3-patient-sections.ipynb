{
 "cells": [
  {
   "cell_type": "code",
   "execution_count": null,
   "metadata": {
    "collapsed": true
   },
   "outputs": [],
   "source": [
    "import json\n",
    "from dataclasses import asdict\n",
    "from typing import List\n",
    "import re\n",
    "from CTnlp.patient import load_patients_from_xml\n",
    "from CTnlp.patient import Patient"
   ]
  },
  {
   "cell_type": "code",
   "execution_count": null,
   "outputs": [],
   "source": [
    "\n",
    "def convert_patients_to_jsonl(patients: List[Patient], outfile):\n",
    "    with open(outfile, 'w') as fp:\n",
    "        for patient in patients:\n",
    "            fp.write(json.dumps(asdict(patient)))\n",
    "            fp.write('\\n')"
   ],
   "metadata": {
    "collapsed": false
   }
  },
  {
   "cell_type": "code",
   "execution_count": null,
   "outputs": [],
   "source": [
    "patients = []\n",
    "patients.extend(load_patients_from_xml(\"../data/external/topics2014.xml\", input_type=\"CSIRO\"))\n",
    "patients.extend(load_patients_from_xml(\"../data/external/topics2021.xml\"))\n",
    "patients.extend(load_patients_from_xml(\"../data/external/topics2022.xml\"))"
   ],
   "metadata": {
    "collapsed": false
   }
  },
  {
   "cell_type": "code",
   "execution_count": null,
   "outputs": [],
   "source": [
    "patients[0]"
   ],
   "metadata": {
    "collapsed": false
   }
  },
  {
   "cell_type": "code",
   "execution_count": null,
   "outputs": [],
   "source": [
    "def extract_past_medical_history(patient):\n",
    "    description = patient.description.lower()\n",
    "    match = re.search(r\"[!\\.][^!\\.]*medical history.*?\\.\", description, re.IGNORECASE)\n",
    "    if not match:\n",
    "        match = re.search(r\"[!\\.][^!\\.]*has (no )?(a )?(positive )?history.*?\\.\", description, re.IGNORECASE)\n",
    "    if not match:\n",
    "        match = re.search(r\"[!\\.][^!\\.]*past medical history:?\\n([\\d|-]?[^\\n]*\\n)*\", description, re.IGNORECASE)\n",
    "    return match"
   ],
   "metadata": {
    "collapsed": false
   }
  },
  {
   "cell_type": "code",
   "execution_count": null,
   "outputs": [],
   "source": [
    "def extract_family_history(patient):\n",
    "    description = patient.description.lower()\n",
    "    match = re.search(r\"\\.[^\\.]*family history.*?\\.\", description, re.IGNORECASE)\n",
    "    return match"
   ],
   "metadata": {
    "collapsed": false
   }
  },
  {
   "cell_type": "code",
   "execution_count": null,
   "outputs": [],
   "source": [
    "def extract_sections(patient):\n",
    "    _description = patient.description\n",
    "    rest = patient.description\n",
    "    pmh_text = ''\n",
    "    fh_text = ''\n",
    "\n",
    "    pmh = extract_past_medical_history(patient)\n",
    "    fh = extract_family_history(patient)\n",
    "\n",
    "    if pmh and fh:\n",
    "        if pmh.start() > fh.start():\n",
    "            _first = fh\n",
    "            _second = pmh\n",
    "        else:\n",
    "            _first = pmh\n",
    "            _second = fh\n",
    "\n",
    "        rest = _description[:_second.start()+2] + _description[_second.end()+1:]\n",
    "        rest = rest[:_first.start()+2] + rest[_first.end()+1:]\n",
    "        pmh_text = _description[pmh.start()+1:pmh.end()].strip()\n",
    "        fh_text = _description[fh.start()+1:fh.end()].strip()\n",
    "\n",
    "    if pmh and not fh:\n",
    "        rest = _description[:pmh.start()+2] + _description[pmh.end()+1:]\n",
    "        pmh_text = _description[pmh.start()+1:pmh.end()].strip()\n",
    "\n",
    "    if fh and not pmh:\n",
    "        rest = _description[:fh.start()+2] + _description[fh.end()+1:]\n",
    "        fh_text = _description[fh.start()+1:fh.end()].strip()\n",
    "\n",
    "    print(f\"{pmh=}\\t{fh=}\")\n",
    "\n",
    "    return rest, pmh_text, fh_text"
   ],
   "metadata": {
    "collapsed": false
   }
  },
  {
   "cell_type": "code",
   "execution_count": null,
   "outputs": [],
   "source": [
    "out_dict = []\n",
    "for patient in patients:\n",
    "    rest, pmh, fh = extract_sections(patient)\n",
    "    patient.pmh = pmh\n",
    "    patient.fh = fh\n",
    "    patient.rest = rest\n",
    "\n",
    "    out_dict.append({\n",
    "        'patient_id': patient.patient_id,\n",
    "        'description':rest,\n",
    "        'pmh':pmh,'fh':fh})"
   ],
   "metadata": {
    "collapsed": false
   }
  },
  {
   "cell_type": "code",
   "execution_count": null,
   "outputs": [],
   "source": [
    "OUTFILE = '../data/external/sections.jsonl'\n",
    "# convert_patients_to_jsonl(patients=patients, outfile=OUTFILE)"
   ],
   "metadata": {
    "collapsed": false
   }
  },
  {
   "cell_type": "code",
   "execution_count": null,
   "outputs": [],
   "source": [
    "with open(OUTFILE, 'w') as fp:\n",
    "    for item in out_dict:\n",
    "        fp.write(json.dumps(item))\n",
    "        fp.write('\\n')"
   ],
   "metadata": {
    "collapsed": false
   }
  },
  {
   "cell_type": "code",
   "execution_count": null,
   "outputs": [],
   "source": [
    "rest"
   ],
   "metadata": {
    "collapsed": false
   }
  },
  {
   "cell_type": "code",
   "execution_count": null,
   "outputs": [],
   "source": [
    "pmh"
   ],
   "metadata": {
    "collapsed": false
   }
  },
  {
   "cell_type": "markdown",
   "source": [
    "# Medspacy testing"
   ],
   "metadata": {
    "collapsed": false
   }
  },
  {
   "cell_type": "code",
   "execution_count": null,
   "outputs": [],
   "source": [
    "import medspacy\n",
    "from medspacy.context import ConTextRule, ConTextComponent\n",
    "# from medspacy.visualization import visualize_dep, visualize_ent\n",
    "# from scispacy.linking import EntityLinker\n"
   ],
   "metadata": {
    "collapsed": false
   }
  },
  {
   "cell_type": "code",
   "execution_count": null,
   "outputs": [],
   "source": [
    "nlp = medspacy.load(\"en_ner_bc5cdr_md\", enable=[\"sentencizer\", \"context\"])"
   ],
   "metadata": {
    "collapsed": false
   }
  },
  {
   "cell_type": "code",
   "execution_count": null,
   "outputs": [],
   "source": [
    "# nlp.add_pipe(\"scispacy_linker\", config={\"resolve_abbreviations\": True, \"linker_name\": \"umls\"})"
   ],
   "metadata": {
    "collapsed": false
   }
  },
  {
   "cell_type": "code",
   "execution_count": null,
   "outputs": [],
   "source": [
    "# nlp = medspacy.load(enable=[\"sentencizer\", \"context\"])"
   ],
   "metadata": {
    "collapsed": false
   }
  },
  {
   "cell_type": "code",
   "execution_count": null,
   "outputs": [],
   "source": [
    "context = ConTextComponent(nlp, rules=\"default\")"
   ],
   "metadata": {
    "collapsed": false
   }
  },
  {
   "cell_type": "code",
   "execution_count": null,
   "outputs": [],
   "source": [
    "context.rules"
   ],
   "metadata": {
    "collapsed": false
   }
  },
  {
   "cell_type": "code",
   "execution_count": null,
   "outputs": [],
   "source": [
    "doc = nlp(\"She has no allergies to any food or drugs. There is abscess in the abdomen. There is a collection of fluid in the jejunum. hematomas are seen around the right lower quadrant. There is no cancer.\")"
   ],
   "metadata": {
    "collapsed": false
   }
  },
  {
   "cell_type": "code",
   "execution_count": null,
   "outputs": [],
   "source": [
    "context(doc)"
   ],
   "metadata": {
    "collapsed": false
   }
  },
  {
   "cell_type": "code",
   "execution_count": null,
   "outputs": [],
   "source": [
    "doc._.context_graph"
   ],
   "metadata": {
    "collapsed": false
   }
  },
  {
   "cell_type": "code",
   "execution_count": null,
   "outputs": [],
   "source": [
    "doc._.context_graph.targets"
   ],
   "metadata": {
    "collapsed": false
   }
  },
  {
   "cell_type": "code",
   "execution_count": null,
   "outputs": [],
   "source": [
    "doc._.context_graph.modifiers"
   ],
   "metadata": {
    "collapsed": false
   }
  },
  {
   "cell_type": "code",
   "execution_count": null,
   "outputs": [],
   "source": [
    "from medspacy.visualization import visualize_dep, visualize_ent"
   ],
   "metadata": {
    "collapsed": false
   }
  },
  {
   "cell_type": "code",
   "execution_count": null,
   "outputs": [],
   "source": [
    "visualize_ent(doc)"
   ],
   "metadata": {
    "collapsed": false
   }
  },
  {
   "cell_type": "code",
   "execution_count": null,
   "outputs": [],
   "source": [
    "visualize_dep(doc)"
   ],
   "metadata": {
    "collapsed": false
   }
  },
  {
   "cell_type": "code",
   "execution_count": null,
   "outputs": [],
   "source": [
    "nlp = medspacy.load(\"en_info_3700_i2b2_2012\", enable=['sentencizer', 'tagger', 'parser',\n",
    "                                                      'ner', 'target_matcher', 'context',\n",
    "                                                     'sectionizer'])"
   ],
   "metadata": {
    "collapsed": false
   }
  },
  {
   "cell_type": "code",
   "execution_count": null,
   "outputs": [],
   "source": [
    "expanded = []\n",
    "for patient in patients[120:130]:\n",
    "    doc = nlp(patient.description)\n",
    "    # visualize_ent(doc)\n",
    "    for target, modifier in doc._.context_graph.edges:\n",
    "        print(\"[{0}] is modified by [{1}]\".format(target, modifier))\n",
    "        if modifier.category == 'NEGATED_EXISTENCE':\n",
    "            expanded.append(f\"no_{'_'.join(str(target).lower().split())}\")\n",
    "    # print(doc._.context_graph)"
   ],
   "metadata": {
    "collapsed": false
   }
  },
  {
   "cell_type": "code",
   "execution_count": null,
   "outputs": [],
   "source": [
    "doc._.context_graph.targets"
   ],
   "metadata": {
    "collapsed": false
   }
  },
  {
   "cell_type": "code",
   "execution_count": null,
   "outputs": [],
   "source": [
    "doc._.context_graph.targets"
   ],
   "metadata": {
    "collapsed": false
   }
  },
  {
   "cell_type": "code",
   "execution_count": null,
   "outputs": [],
   "source": [
    "doc.ents"
   ],
   "metadata": {
    "collapsed": false
   }
  },
  {
   "cell_type": "code",
   "execution_count": null,
   "outputs": [],
   "source": [
    "visualize_ent(doc)"
   ],
   "metadata": {
    "collapsed": false
   }
  },
  {
   "cell_type": "code",
   "execution_count": null,
   "outputs": [],
   "source": [
    "expanded"
   ],
   "metadata": {
    "collapsed": false
   }
  },
  {
   "cell_type": "code",
   "execution_count": null,
   "outputs": [],
   "source": [
    "from CTnlp.parsers import parse_clinical_trials_from_folder\n",
    "cts = parse_clinical_trials_from_folder(\"/Users/wojciechkusa/projects/shared-tasks/clinical-trials/data/external/\")\n",
    "len(cts)"
   ],
   "metadata": {
    "collapsed": false
   }
  },
  {
   "cell_type": "code",
   "execution_count": null,
   "outputs": [],
   "source": [
    "for ct in cts:\n",
    "    doc = nlp(ct.criteria)\n",
    "    visualize_ent(doc)"
   ],
   "metadata": {
    "collapsed": false
   }
  },
  {
   "cell_type": "code",
   "execution_count": null,
   "outputs": [],
   "source": [
    "def get_entities(text):\n",
    "    doc = nlp(text)\n",
    "\n",
    "    entities = []\n",
    "    negated_entities = []\n",
    "    pmh_entities = []\n",
    "    fh_entities = []\n",
    "    for ent in doc.ents:\n",
    "        if any([ent._.is_negated, ent._.is_uncertain, ent._.is_historical, ent._.is_family, ent._.is_hypothetical, ]):\n",
    "            # print(\"'{0}' modified by {1} in: '{2}'\".format(ent, ent._.modifiers, ent.sent))\n",
    "            # print()\n",
    "            if ent._.is_negated:\n",
    "                # negated_entities.append(f\"no_{'_'.join(str(ent).lower().split())}\")\n",
    "                negated_entities.append(str(ent))\n",
    "            elif ent._.is_historical:\n",
    "                pmh_entities.append(str(ent))\n",
    "            elif ent._.is_family:\n",
    "                fh_entities.append(str(ent))\n",
    "            else:\n",
    "                entities.append(str(ent))\n",
    "        else:\n",
    "            entities.append(str(ent))\n",
    "\n",
    "    return {\"entities\": entities, \"negated_entities\": negated_entities, \"pmh_entities\": pmh_entities, \"fh_entities\": fh_entities,}"
   ],
   "metadata": {
    "collapsed": false
   }
  },
  {
   "cell_type": "code",
   "execution_count": null,
   "outputs": [],
   "source": [
    "output_entities = []\n",
    "for patient in patients:\n",
    "    entities_dict = get_entities(patient.description)\n",
    "    entities_dict[\"id\"] = patient.patient_id\n",
    "    output_entities.append(entities_dict)"
   ],
   "metadata": {
    "collapsed": false
   }
  },
  {
   "cell_type": "code",
   "execution_count": null,
   "outputs": [],
   "source": [
    "output_entities"
   ],
   "metadata": {
    "collapsed": false
   }
  },
  {
   "cell_type": "code",
   "execution_count": null,
   "outputs": [],
   "source": [
    "OUTFILE = '../data/external/entities.jsonl'"
   ],
   "metadata": {
    "collapsed": false
   }
  },
  {
   "cell_type": "code",
   "execution_count": null,
   "outputs": [],
   "source": [
    "with open(OUTFILE, 'w') as fp:\n",
    "    for item in output_entities:\n",
    "        fp.write(json.dumps(item))\n",
    "        fp.write('\\n')"
   ],
   "metadata": {
    "collapsed": false
   }
  },
  {
   "cell_type": "code",
   "execution_count": null,
   "outputs": [],
   "source": [
    "cts[2].conditions"
   ],
   "metadata": {
    "collapsed": false
   }
  },
  {
   "cell_type": "code",
   "execution_count": null,
   "outputs": [],
   "source": [
    "patient.description"
   ],
   "metadata": {
    "collapsed": false
   }
  },
  {
   "cell_type": "code",
   "execution_count": null,
   "outputs": [],
   "source": [
    "doc = nlp(patient.description)"
   ],
   "metadata": {
    "collapsed": false
   }
  },
  {
   "cell_type": "code",
   "execution_count": null,
   "outputs": [],
   "source": [
    "for ent in doc.ents:\n",
    "    if any([ent._.is_negated, ent._.is_uncertain, ent._.is_historical, ent._.is_family, ent._.is_hypothetical, ]):\n",
    "        print(ent, [ent._.is_negated, ent._.is_uncertain, ent._.is_historical, ent._.is_family, ent._.is_hypothetical, ])"
   ],
   "metadata": {
    "collapsed": false
   }
  },
  {
   "cell_type": "code",
   "execution_count": null,
   "outputs": [],
   "source": [
    "doc.ents"
   ],
   "metadata": {
    "collapsed": false
   }
  },
  {
   "cell_type": "code",
   "execution_count": null,
   "outputs": [],
   "source": [],
   "metadata": {
    "collapsed": false
   }
  }
 ],
 "metadata": {
  "kernelspec": {
   "display_name": "Python 3",
   "language": "python",
   "name": "python3"
  },
  "language_info": {
   "codemirror_mode": {
    "name": "ipython",
    "version": 2
   },
   "file_extension": ".py",
   "mimetype": "text/x-python",
   "name": "python",
   "nbconvert_exporter": "python",
   "pygments_lexer": "ipython2",
   "version": "2.7.6"
  }
 },
 "nbformat": 4,
 "nbformat_minor": 0
}
