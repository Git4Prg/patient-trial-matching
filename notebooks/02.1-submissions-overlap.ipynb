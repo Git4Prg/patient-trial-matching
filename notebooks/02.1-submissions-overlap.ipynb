{
 "cells": [
  {
   "cell_type": "code",
   "execution_count": null,
   "metadata": {
    "collapsed": true,
    "pycharm": {
     "name": "#%%\n"
    }
   },
   "outputs": [],
   "source": [
    "import pandas as pd"
   ]
  },
  {
   "cell_type": "code",
   "execution_count": null,
   "outputs": [],
   "source": [
    "submission_files = [\n",
    "    \"../data/processed/submissions/2022/BM25p-fl-pnf-ckc-2022\",\n",
    "    \"../data/processed/submissions/2022/BM25pe-f-pnf-akc-2022\",\n",
    "    \"../data/processed/submissions/2022/BM25pe-f-pnfp-acc-2022\",\n",
    "    \"../data/processed/submissions/2022/2022DoSSIER_1.txt\",\n",
    "]"
   ],
   "metadata": {
    "collapsed": false,
    "pycharm": {
     "name": "#%%\n"
    }
   }
  },
  {
   "cell_type": "code",
   "execution_count": null,
   "outputs": [],
   "source": [
    "names=[\n",
    "                \"qid\",\n",
    "                \"Q0\",\n",
    "                \"docno\",\n",
    "                \"rank\",\n",
    "                \"score\",\n",
    "                \"run_id\"\n",
    "            ]"
   ],
   "metadata": {
    "collapsed": false,
    "pycharm": {
     "name": "#%%\n"
    }
   }
  },
  {
   "cell_type": "code",
   "execution_count": null,
   "outputs": [],
   "source": [
    "df1 = pd.read_csv(submission_files[0], sep=' ',names=names)"
   ],
   "metadata": {
    "collapsed": false,
    "pycharm": {
     "name": "#%%\n"
    }
   }
  },
  {
   "cell_type": "code",
   "execution_count": null,
   "outputs": [],
   "source": [
    "df2 = pd.read_csv(submission_files[1], sep=' ',names=names)\n",
    "df3 = pd.read_csv(submission_files[2], sep=' ',names=names)"
   ],
   "metadata": {
    "collapsed": false,
    "pycharm": {
     "name": "#%%\n"
    }
   }
  },
  {
   "cell_type": "code",
   "execution_count": null,
   "outputs": [],
   "source": [
    "df4 = pd.read_csv(submission_files[3], sep='\\t',names=names)"
   ],
   "metadata": {
    "collapsed": false,
    "pycharm": {
     "name": "#%%\n"
    }
   }
  },
  {
   "cell_type": "code",
   "execution_count": null,
   "outputs": [],
   "source": [
    "top_n = 10\n",
    "total_count = 0\n",
    "total_in_count = 0\n",
    "for qid in df1['qid'].unique().tolist():\n",
    "    tmp1 = df1[df1['qid'] == qid]\n",
    "    tmp2 = df2[df2['qid'] == qid]\n",
    "\n",
    "    in_first = tmp1.iloc[:top_n]['docno'].isin(tmp2.iloc[:top_n]['docno']).sum()\n",
    "    total_in_count += in_first\n",
    "    total_count += top_n\n",
    "    print(f\"{qid}\\t{100.0*in_first/top_n}%\")"
   ],
   "metadata": {
    "collapsed": false,
    "pycharm": {
     "name": "#%%\n"
    }
   }
  },
  {
   "cell_type": "code",
   "execution_count": null,
   "outputs": [],
   "source": [
    "print(f\"total:\\t{100.0*total_in_count/total_count}%\")"
   ],
   "metadata": {
    "collapsed": false,
    "pycharm": {
     "name": "#%%\n"
    }
   }
  },
  {
   "cell_type": "code",
   "execution_count": null,
   "outputs": [],
   "source": [
    "def check_against_multiple(df, others):\n",
    "    top_n = 10\n",
    "    total_count = 0\n",
    "    total_in_count = 0\n",
    "    for qid in df['qid'].unique().tolist():\n",
    "        tmp1 = df[df['qid'] == qid]\n",
    "\n",
    "        docnos_others = []\n",
    "        for other in others:\n",
    "            docnos_others.extend(other[other['qid'] == qid].iloc[:top_n]['docno'].tolist())\n",
    "\n",
    "        docnos_others = list(set(docnos_others))\n",
    "        # print(len(docnos_others))\n",
    "        in_first = tmp1.iloc[:top_n]['docno'].isin(docnos_others).sum()\n",
    "        total_in_count += in_first\n",
    "        total_count += top_n\n",
    "        # print(f\"{qid}\\t{100.0 * in_first / top_n}%\")\n",
    "    return total_in_count, total_count"
   ],
   "metadata": {
    "collapsed": false,
    "pycharm": {
     "name": "#%%\n"
    }
   }
  },
  {
   "cell_type": "code",
   "execution_count": null,
   "outputs": [],
   "source": [
    "others = [df3]\n",
    "\n",
    "total_in_count, total_count = check_against_multiple(df=df4, others=others)\n",
    "print(f\"total:\\t{100.0*total_in_count/total_count}%\")"
   ],
   "metadata": {
    "collapsed": false,
    "pycharm": {
     "name": "#%%\n"
    }
   }
  },
  {
   "cell_type": "code",
   "execution_count": null,
   "outputs": [],
   "source": [],
   "metadata": {
    "collapsed": false,
    "pycharm": {
     "name": "#%%\n"
    }
   }
  }
 ],
 "metadata": {
  "kernelspec": {
   "display_name": "Python 3",
   "language": "python",
   "name": "python3"
  },
  "language_info": {
   "codemirror_mode": {
    "name": "ipython",
    "version": 2
   },
   "file_extension": ".py",
   "mimetype": "text/x-python",
   "name": "python",
   "nbconvert_exporter": "python",
   "pygments_lexer": "ipython2",
   "version": "2.7.6"
  }
 },
 "nbformat": 4,
 "nbformat_minor": 0
}