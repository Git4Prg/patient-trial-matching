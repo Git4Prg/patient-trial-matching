{
 "cells": [
  {
   "cell_type": "code",
   "execution_count": null,
   "metadata": {},
   "outputs": [],
   "source": [
    "from rank_bm25 import BM25Okapi\n",
    "from trec_cds.data.parsers import parse_clinical_trials_from_folder, load_topics_from_xml\n",
    "import spacy\n",
    "import tqdm\n",
    "import numpy as np\n",
    "import json"
   ]
  },
  {
   "cell_type": "code",
   "execution_count": null,
   "metadata": {
    "pycharm": {
     "name": "#%%\n"
    }
   },
   "outputs": [],
   "source": [
    "\n",
    "folder_name = \"../data/external/ClinicalTrials\"\n",
    "first_n = 450000\n",
    "\n",
    "cts = parse_clinical_trials_from_folder(folder_name=folder_name, first_n=first_n)"
   ]
  },
  {
   "cell_type": "code",
   "execution_count": null,
   "metadata": {
    "pycharm": {
     "name": "#%%\n"
    }
   },
   "outputs": [],
   "source": [
    "nlp = spacy.load(\"en_core_sci_sm\")"
   ]
  },
  {
   "cell_type": "code",
   "execution_count": null,
   "metadata": {
    "pycharm": {
     "name": "#%%\n"
    }
   },
   "outputs": [],
   "source": [
    "len(cts)"
   ]
  },
  {
   "cell_type": "code",
   "execution_count": null,
   "metadata": {
    "pycharm": {
     "name": "#%%\n"
    }
   },
   "outputs": [],
   "source": [
    "cts_tokenized = []\n",
    "for clinical_trial in tqdm.tqdm(cts):\n",
    "\n",
    "    preprocessed = nlp(clinical_trial.text,\n",
    "                       disable=[\n",
    "                            \"ner\",\n",
    "                            \"tok2vec\",\n",
    "                            \"tagger\",\n",
    "                            \"parser\",\n",
    "                            \"attribute_ruler\",\n",
    "                            \"lemmatizer\"\n",
    "                       ]\n",
    "                       )\n",
    "    cts_tokenized.append([\n",
    "        token.text for token in preprocessed if not token.is_stop\n",
    "    ])"
   ]
  },
  {
   "cell_type": "code",
   "execution_count": null,
   "metadata": {
    "pycharm": {
     "name": "#%%\n"
    }
   },
   "outputs": [],
   "source": [
    "bm25 = BM25Okapi(cts_tokenized)\n",
    "print(bm25)"
   ]
  },
  {
   "cell_type": "code",
   "execution_count": null,
   "metadata": {
    "pycharm": {
     "name": "#%%\n"
    }
   },
   "outputs": [],
   "source": [
    "import pickle\n",
    "pickle.dump(bm25, open(\"../models/bm25-baseline.p\", \"wb\"))"
   ]
  },
  {
   "cell_type": "code",
   "execution_count": null,
   "metadata": {
    "pycharm": {
     "name": "#%%\n"
    }
   },
   "outputs": [],
   "source": [
    "topic_file = \"../data/external/topics2021.xml\"\n",
    "topics = load_topics_from_xml(topic_file)"
   ]
  },
  {
   "cell_type": "code",
   "execution_count": null,
   "metadata": {
    "pycharm": {
     "is_executing": true,
     "name": "#%%\n"
    }
   },
   "outputs": [],
   "source": [
    "TOP_N = 2500\n",
    "\n",
    "output_scores = {}\n",
    "for topic in tqdm.tqdm(topics):\n",
    "    topic_scores = {}\n",
    "    doc = nlp(topic.text)\n",
    "    doc_scores = bm25.get_scores([token.text for token in doc if not token.is_stop])\n",
    "\n",
    "    for index, score in zip(np.argsort(doc_scores)[-TOP_N:], np.sort(doc_scores)[-TOP_N:]):\n",
    "        topic_scores[cts[index].nct_id] = score\n",
    "\n",
    "    output_scores[topic.number] = topic_scores"
   ]
  },
  {
   "cell_type": "code",
   "execution_count": null,
   "metadata": {
    "pycharm": {
     "name": "#%%\n"
    }
   },
   "outputs": [],
   "source": [
    "len(output_scores[1])"
   ]
  },
  {
   "cell_type": "code",
   "execution_count": null,
   "metadata": {
    "pycharm": {
     "is_executing": true,
     "name": "#%%\n"
    }
   },
   "outputs": [],
   "source": [
    "with open(\"../data/processed/bm25-scores.json\", 'w') as fp:\n",
    "    json.dump(output_scores, fp)"
   ]
  },
  {
   "cell_type": "code",
   "execution_count": null,
   "metadata": {
    "pycharm": {
     "name": "#%%\n"
    }
   },
   "outputs": [],
   "source": []
  }
 ],
 "metadata": {
  "kernelspec": {
   "display_name": "Python 3 (ipykernel)",
   "language": "python",
   "name": "python3"
  },
  "language_info": {
   "codemirror_mode": {
    "name": "ipython",
    "version": 3
   },
   "file_extension": ".py",
   "mimetype": "text/x-python",
   "name": "python",
   "nbconvert_exporter": "python",
   "pygments_lexer": "ipython3",
   "version": "3.8.10"
  }
 },
 "nbformat": 4,
 "nbformat_minor": 1
}
